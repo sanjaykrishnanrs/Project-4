{
  "nbformat": 4,
  "nbformat_minor": 0,
  "metadata": {
    "colab": {
      "name": "Assignment-4-Fourth Iteration .ipynb",
      "version": "0.3.2",
      "provenance": [],
      "collapsed_sections": []
    },
    "kernelspec": {
      "name": "python3",
      "display_name": "Python 3"
    },
    "accelerator": "GPU"
  },
  "cells": [
    {
      "cell_type": "markdown",
      "metadata": {
        "id": "TnycFMDzHdep",
        "colab_type": "text"
      },
      "source": [
        "So far we have did these many major improvements: \n",
        "\n",
        "**1) Vanilla Architecture**\n",
        "\n",
        "*   Maxpooling\n",
        "*   1x1 Kernel\n",
        "*   Relu activation\n",
        "\n",
        "**2) Major focus on parameter reduction keeping the accuracy not to dip much**\n",
        "\n",
        "*   Reduce the no: of layers\n",
        "<br/><pre>Shift our architecture from deep to shallow. Once image reaches 9*9 resolution, then further layers can't extract any useful feature\n",
        "       Eg: 3x3 kernel on 9x9 image only covers 25 pixels 9 times.</pre>\n",
        "*   Reduce no: of kernels \n",
        "<br/><pre>Our objective is to detect handwritten digit in 15k max params. Using enough kernels to achieve.</pre>\n",
        "*   Increase Epoch & Batch size\n",
        "<br/><pre>Network takes more time to learn as few parameters have to be tuned properly for a broader spectrum. So we have to increase epoch and to utilize gpu cores more, increasing batchsize as well.</pre>\n",
        "\n",
        "**3) Focused on resolving overfitting**\n",
        "\n",
        "* BatchNormalization\n",
        "* Drop-out\n",
        "\n",
        "***We will focus on learning rate in this iteration for the faster convergence of parameter values***<br/>\n",
        "**4) Learning rate**\n",
        "* Cyclic Learning rate"
      ]
    },
    {
      "cell_type": "markdown",
      "metadata": {
        "id": "aNyZv-Ec52ot",
        "colab_type": "text"
      },
      "source": [
        "# **Import Libraries and modules**"
      ]
    },
    {
      "cell_type": "code",
      "metadata": {
        "id": "3m3w1Cw49Zkt",
        "colab_type": "code",
        "outputId": "f2e8dc7b-682c-434e-d29e-1f8d25d00bd6",
        "colab": {
          "base_uri": "https://localhost:8080/",
          "height": 34
        }
      },
      "source": [
        "# Installing Keras Library and importing the same.\n",
        "# Reference: https://keras.io/\n",
        "!pip install -q keras\n",
        "import keras"
      ],
      "execution_count": 0,
      "outputs": [
        {
          "output_type": "stream",
          "text": [
            "Using TensorFlow backend.\n"
          ],
          "name": "stderr"
        }
      ]
    },
    {
      "cell_type": "code",
      "metadata": {
        "id": "Eso6UHE080D4",
        "colab_type": "code",
        "colab": {}
      },
      "source": [
        "# Numpy is library used for efficient high level mathemtical processing on multi dimensional arrays\n",
        "import numpy as np\n",
        "\n",
        "# Keras provides a Sequential model API. This is way of creating a linear stack of layers while creating models.\n",
        "from keras.models import Sequential\n",
        "\n",
        "# Flatten provided by Keras will be used to convert a multidimensional tensor into a single 1-D tensor\n",
        "from keras.layers import Flatten\n",
        "from keras.layers import Dense, Dropout, Activation, Flatten, Add, BatchNormalization\n",
        "\n",
        "# Convolution2D will be used to create a convolution kernel that is convolved with the layer input to produce a tensor of outputs\n",
        "from keras.layers import Convolution2D, MaxPooling2D\n",
        "\n",
        "# Import np_utils from keras\n",
        "from keras.utils import np_utils\n",
        "\n",
        "# Being a subset of NIST, MNIST has datasets of handwritten digits with 60,000 training set and 10,000 test set\n",
        "from keras.datasets import mnist"
      ],
      "execution_count": 0,
      "outputs": []
    },
    {
      "cell_type": "markdown",
      "metadata": {
        "id": "zByEi95J86RD",
        "colab_type": "text"
      },
      "source": [
        "# Load pre-shuffled MNIST data into train and test sets"
      ]
    },
    {
      "cell_type": "code",
      "metadata": {
        "id": "7eRM0QWN83PV",
        "colab_type": "code",
        "outputId": "798638d3-3b6d-47ac-886b-7c6968c5723f",
        "colab": {
          "base_uri": "https://localhost:8080/",
          "height": 52
        }
      },
      "source": [
        "# Loads MINST dataset, 60,000 training set and 10,000 test set\n",
        "# X values will have images,  y values will have digit represented by the corresponding X images\n",
        "(X_train, y_train), (X_test, y_test) = mnist.load_data()"
      ],
      "execution_count": 0,
      "outputs": [
        {
          "output_type": "stream",
          "text": [
            "Downloading data from https://s3.amazonaws.com/img-datasets/mnist.npz\n",
            "11493376/11490434 [==============================] - 1s 0us/step\n"
          ],
          "name": "stdout"
        }
      ]
    },
    {
      "cell_type": "code",
      "metadata": {
        "id": "4a4Be72j8-ZC",
        "colab_type": "code",
        "outputId": "9dc7b7fb-d395-4b96-e2b4-d4d618cf8246",
        "colab": {
          "base_uri": "https://localhost:8080/",
          "height": 304
        }
      },
      "source": [
        "# Let's see a random image in a training dataset (X_train)\n",
        "\n",
        "print (X_train.shape)\n",
        "from matplotlib import pyplot as plt\n",
        "%matplotlib inline\n",
        "plt.imshow(X_train[0])"
      ],
      "execution_count": 0,
      "outputs": [
        {
          "output_type": "stream",
          "text": [
            "(60000, 28, 28)\n"
          ],
          "name": "stdout"
        },
        {
          "output_type": "execute_result",
          "data": {
            "text/plain": [
              "<matplotlib.image.AxesImage at 0x7f0cb68f9898>"
            ]
          },
          "metadata": {
            "tags": []
          },
          "execution_count": 4
        },
        {
          "output_type": "display_data",
          "data": {
            "image/png": "[encoded data removed]",
            "text/plain": [
              "<Figure size 432x288 with 1 Axes>"
            ]
          },
          "metadata": {
            "tags": []
          }
        }
      ]
    },
    {
      "cell_type": "code",
      "metadata": {
        "id": "dkmprriw9AnZ",
        "colab_type": "code",
        "colab": {}
      },
      "source": [
        "# As you see above dimensions, loaded training dataset has a dimension of 2d. So, we have 60,000 2d images 28x28\n",
        "# Let's reshapte to 3D as our model requires 3d images. Here, we are reshaping 28x28 to 28x28x1 where 1 being the channel of the image\n",
        "X_train = X_train.reshape(X_train.shape[0], 28, 28,1)\n",
        "X_test = X_test.reshape(X_test.shape[0], 28, 28,1)"
      ],
      "execution_count": 0,
      "outputs": []
    },
    {
      "cell_type": "code",
      "metadata": {
        "id": "X2m4YS4E9CRh",
        "colab_type": "code",
        "colab": {}
      },
      "source": [
        "# Using a 32 bit precision is a common approach in neural network training.\n",
        "# Reason behind is that to make sure that the dataset fits easily in RAM.\n",
        "X_train = X_train.astype('float32')\n",
        "X_test = X_test.astype('float32')\n",
        "\n",
        "# 255 is the max pixel value in an image. Dividing all pixel values by 255 ensures that the input features are scaled between 0.0 and 1.0\n",
        "# Reason behind to scale between 0.0 and 1.0 is to make sure default learning rate works well.\n",
        "X_train /= 255\n",
        "X_test /= 255"
      ],
      "execution_count": 0,
      "outputs": []
    },
    {
      "cell_type": "code",
      "metadata": {
        "id": "0Mn0vAYD9DvB",
        "colab_type": "code",
        "outputId": "cbad59fe-7b9f-4754-c8e0-96123e44cd79",
        "colab": {
          "base_uri": "https://localhost:8080/",
          "height": 34
        }
      },
      "source": [
        "# Let's see corresponding y_train value\n",
        "y_train[:10]"
      ],
      "execution_count": 0,
      "outputs": [
        {
          "output_type": "execute_result",
          "data": {
            "text/plain": [
              "array([5, 0, 4, 1, 9, 2, 1, 3, 1, 4], dtype=uint8)"
            ]
          },
          "metadata": {
            "tags": []
          },
          "execution_count": 7
        }
      ]
    },
    {
      "cell_type": "code",
      "metadata": {
        "id": "ZG8JiXR39FHC",
        "colab_type": "code",
        "colab": {}
      },
      "source": [
        "# Convert 1-dimensional class arrays to 10-dimensional class matrices\n",
        "# Reason behind this conversion is, at the end of the model we will be having 10 nodes which will tell, out of 0-9 digits which does the input image represent.\n",
        "# Hence to learn as well as to evaluate, we need a 10 length array for each output label\n",
        "Y_train = np_utils.to_categorical(y_train, 10)\n",
        "Y_test = np_utils.to_categorical(y_test, 10)"
      ],
      "execution_count": 0,
      "outputs": []
    },
    {
      "cell_type": "code",
      "metadata": {
        "id": "fYlFRvKS9HMB",
        "colab_type": "code",
        "outputId": "ac03564e-45de-48e6-9820-df65235e632c",
        "colab": {
          "base_uri": "https://localhost:8080/",
          "height": 191
        }
      },
      "source": [
        "# Let's see what are the initial 10 values in y_train. Values is y_train corresponds to the digit represnted by x dataset images.\n",
        "Y_train[:10]"
      ],
      "execution_count": 0,
      "outputs": [
        {
          "output_type": "execute_result",
          "data": {
            "text/plain": [
              "array([[0., 0., 0., 0., 0., 1., 0., 0., 0., 0.],\n",
              "       [1., 0., 0., 0., 0., 0., 0., 0., 0., 0.],\n",
              "       [0., 0., 0., 0., 1., 0., 0., 0., 0., 0.],\n",
              "       [0., 1., 0., 0., 0., 0., 0., 0., 0., 0.],\n",
              "       [0., 0., 0., 0., 0., 0., 0., 0., 0., 1.],\n",
              "       [0., 0., 1., 0., 0., 0., 0., 0., 0., 0.],\n",
              "       [0., 1., 0., 0., 0., 0., 0., 0., 0., 0.],\n",
              "       [0., 0., 0., 1., 0., 0., 0., 0., 0., 0.],\n",
              "       [0., 1., 0., 0., 0., 0., 0., 0., 0., 0.],\n",
              "       [0., 0., 0., 0., 1., 0., 0., 0., 0., 0.]], dtype=float32)"
            ]
          },
          "metadata": {
            "tags": []
          },
          "execution_count": 9
        }
      ]
    },
    {
      "cell_type": "markdown",
      "metadata": {
        "id": "UxOvaKeTA0IX",
        "colab_type": "text"
      },
      "source": [
        "# Model Architecture"
      ]
    },
    {
      "cell_type": "code",
      "metadata": {
        "id": "osKqT73Q9JJB",
        "colab_type": "code",
        "outputId": "778e1669-0319-4824-d347-95ad15bc1af5",
        "colab": {
          "base_uri": "https://localhost:8080/",
          "height": 245
        }
      },
      "source": [
        "# Initializing Sequential API as we will be creating model in a linear stack way\n",
        "model = Sequential()\n",
        "\n",
        "\n",
        "\n",
        "# Input Dimension  = 28x28x1\n",
        "# Kernel           = 3x3x1\n",
        "# No:of Kernels    = 16\n",
        "# Output Dimension = 26x26x16 (Here,16 is the number of channels)\n",
        "# Receptive Field  = 3x3  \n",
        "model.add(Convolution2D(13, 3, 3, activation='relu', input_shape=(28,28,1)))\n",
        "model.add(BatchNormalization())\n",
        "model.add(Dropout(0.1))\n",
        "\n",
        "# Input Dimension  = 26x26x16\n",
        "# Kernel           = 3x3x16\n",
        "# No:of Kernels    = 16\n",
        "# Output Dimension = 24x24x16 (Here,16 is the number of channels)\n",
        "# Receptive Field  = 5x5 \n",
        "model.add(Convolution2D(16, 3, 3, activation='relu'))\n",
        "model.add(BatchNormalization())\n",
        "model.add(Dropout(0.1))\n",
        "\n",
        "# Input Dimension  = 24x24x16\n",
        "# Kernel           = 3x3x16\n",
        "# No:of Kernels    = 32\n",
        "# Output Dimension = 22x22x32 (Here,32 is the number of channels)\n",
        "# Receptive Field  = 7x7 \n",
        "model.add(Convolution2D(19, 3, 3, activation='relu'))\n",
        "model.add(BatchNormalization())\n",
        "model.add(Dropout(0.1))\n",
        "\n",
        "model.add(Convolution2D(13, 1, activation='relu'))\n",
        "# Input Dimension  = 22x22x16\n",
        "# Maxpooling Dimension = 2x2 (Default is 2x2)\n",
        "# Output Dimension = 11x11x16 (Here,16 is the number of channels)\n",
        "# Receptive Field  = 14x14 \n",
        "# NOTE: Maxpooling halves the resolution and doubles the receptive field\n",
        "model.add(MaxPooling2D())\n",
        "\n",
        "\n",
        "\n",
        "# Input Dimension  = 11x11x16\n",
        "# Kernel           = 3x3x16\n",
        "# No:of Kernels    = 16\n",
        "# Output Dimension = 9x9x16 (Here,32 is the number of channels)\n",
        "# Receptive Field  = 16x16 \n",
        "model.add(Convolution2D(16, 3, 3, activation='relu'))\n",
        "model.add(BatchNormalization())\n",
        "model.add(Dropout(0.1))\n",
        "\n",
        "\n",
        "\n",
        "\n",
        "\n",
        "# # Input Dimension  = 7x7x32\n",
        "# # Kernel           = 1x1x32\n",
        "# # No:of Kernels    = 10\n",
        "# # Output Dimension = 7x7x10 (Here,10 is the number of channels)\n",
        "# # Receptive Field  = 18x18\n",
        "# # NOTE: 1x1 Kernels are used here for dimension(channel) reduction.\n",
        "# # No effect on output resolution or receptive field\n",
        "model.add(Convolution2D(19, 3, 3, activation='relu'))\n",
        "model.add(BatchNormalization())\n",
        "model.add(Dropout(0.1))\n",
        "\n",
        "\n",
        "\n",
        "\n",
        "# Input Dimension  = 7x7x10\n",
        "# Kernel           = 7x7x10\n",
        "# No:of Kernels    = 10\n",
        "# Output Dimension = 1x1x10 (Here,32 is the number of channels)\n",
        "# Receptive Field  = 20x20 \n",
        "model.add(Convolution2D(10, 1))\n",
        "model.add(Convolution2D(10, 7))\n",
        "\n",
        "# Input Dimension  = 1x1x10\n",
        "# Output Dimension = 10\n",
        "model.add(Flatten())\n",
        "\n",
        "# We use a “softmax” activation function in the output layer. \n",
        "# This is to ensure the output values are in the range of 0 and 1 and used as predicted probabilities.\n",
        "model.add(Activation('softmax'))\n",
        "\n",
        "\n",
        "\n",
        "\n",
        "\n"
      ],
      "execution_count": 0,
      "outputs": [
        {
          "output_type": "stream",
          "text": [
            "WARNING:tensorflow:From /usr/local/lib/python3.6/dist-packages/tensorflow/python/framework/op_def_library.py:263: colocate_with (from tensorflow.python.framework.ops) is deprecated and will be removed in a future version.\n",
            "Instructions for updating:\n",
            "Colocations handled automatically by placer.\n"
          ],
          "name": "stdout"
        },
        {
          "output_type": "stream",
          "text": [
            "/usr/local/lib/python3.6/dist-packages/ipykernel_launcher.py:10: UserWarning: Update your `Conv2D` call to the Keras 2 API: `Conv2D(13, (3, 3), activation=\"relu\", input_shape=(28, 28, 1...)`\n",
            "  # Remove the CWD from sys.path while we load stuff.\n"
          ],
          "name": "stderr"
        },
        {
          "output_type": "stream",
          "text": [
            "WARNING:tensorflow:From /usr/local/lib/python3.6/dist-packages/keras/backend/tensorflow_backend.py:3445: calling dropout (from tensorflow.python.ops.nn_ops) with keep_prob is deprecated and will be removed in a future version.\n",
            "Instructions for updating:\n",
            "Please use `rate` instead of `keep_prob`. Rate should be set to `rate = 1 - keep_prob`.\n"
          ],
          "name": "stdout"
        },
        {
          "output_type": "stream",
          "text": [
            "/usr/local/lib/python3.6/dist-packages/ipykernel_launcher.py:19: UserWarning: Update your `Conv2D` call to the Keras 2 API: `Conv2D(16, (3, 3), activation=\"relu\")`\n",
            "/usr/local/lib/python3.6/dist-packages/ipykernel_launcher.py:28: UserWarning: Update your `Conv2D` call to the Keras 2 API: `Conv2D(19, (3, 3), activation=\"relu\")`\n",
            "/usr/local/lib/python3.6/dist-packages/ipykernel_launcher.py:47: UserWarning: Update your `Conv2D` call to the Keras 2 API: `Conv2D(16, (3, 3), activation=\"relu\")`\n",
            "/usr/local/lib/python3.6/dist-packages/ipykernel_launcher.py:62: UserWarning: Update your `Conv2D` call to the Keras 2 API: `Conv2D(19, (3, 3), activation=\"relu\")`\n"
          ],
          "name": "stderr"
        }
      ]
    },
    {
      "cell_type": "code",
      "metadata": {
        "id": "TzdAYg1k9K7Z",
        "colab_type": "code",
        "outputId": "42a287ab-3b47-42ce-c286-9cdbc7e7f6b1",
        "colab": {
          "base_uri": "https://localhost:8080/",
          "height": 868
        }
      },
      "source": [
        "# Let's see the overview of stacked up layers in the model\n",
        "model.summary()"
      ],
      "execution_count": 0,
      "outputs": [
        {
          "output_type": "stream",
          "text": [
            "_________________________________________________________________\n",
            "Layer (type)                 Output Shape              Param #   \n",
            "=================================================================\n",
            "conv2d_1 (Conv2D)            (None, 26, 26, 13)        130       \n",
            "_________________________________________________________________\n",
            "batch_normalization_1 (Batch (None, 26, 26, 13)        52        \n",
            "_________________________________________________________________\n",
            "dropout_1 (Dropout)          (None, 26, 26, 13)        0         \n",
            "_________________________________________________________________\n",
            "conv2d_2 (Conv2D)            (None, 24, 24, 16)        1888      \n",
            "_________________________________________________________________\n",
            "batch_normalization_2 (Batch (None, 24, 24, 16)        64        \n",
            "_________________________________________________________________\n",
            "dropout_2 (Dropout)          (None, 24, 24, 16)        0         \n",
            "_________________________________________________________________\n",
            "conv2d_3 (Conv2D)            (None, 22, 22, 19)        2755      \n",
            "_________________________________________________________________\n",
            "batch_normalization_3 (Batch (None, 22, 22, 19)        76        \n",
            "_________________________________________________________________\n",
            "dropout_3 (Dropout)          (None, 22, 22, 19)        0         \n",
            "_________________________________________________________________\n",
            "conv2d_4 (Conv2D)            (None, 22, 22, 13)        260       \n",
            "_________________________________________________________________\n",
            "max_pooling2d_1 (MaxPooling2 (None, 11, 11, 13)        0         \n",
            "_________________________________________________________________\n",
            "conv2d_5 (Conv2D)            (None, 9, 9, 16)          1888      \n",
            "_________________________________________________________________\n",
            "batch_normalization_4 (Batch (None, 9, 9, 16)          64        \n",
            "_________________________________________________________________\n",
            "dropout_4 (Dropout)          (None, 9, 9, 16)          0         \n",
            "_________________________________________________________________\n",
            "conv2d_6 (Conv2D)            (None, 7, 7, 19)          2755      \n",
            "_________________________________________________________________\n",
            "batch_normalization_5 (Batch (None, 7, 7, 19)          76        \n",
            "_________________________________________________________________\n",
            "dropout_5 (Dropout)          (None, 7, 7, 19)          0         \n",
            "_________________________________________________________________\n",
            "conv2d_7 (Conv2D)            (None, 7, 7, 10)          200       \n",
            "_________________________________________________________________\n",
            "conv2d_8 (Conv2D)            (None, 1, 1, 10)          4910      \n",
            "_________________________________________________________________\n",
            "flatten_1 (Flatten)          (None, 10)                0         \n",
            "_________________________________________________________________\n",
            "activation_1 (Activation)    (None, 10)                0         \n",
            "=================================================================\n",
            "Total params: 15,118\n",
            "Trainable params: 14,952\n",
            "Non-trainable params: 166\n",
            "_________________________________________________________________\n"
          ],
          "name": "stdout"
        }
      ]
    },
    {
      "cell_type": "markdown",
      "metadata": {
        "id": "YXJX8rXXVBC_",
        "colab_type": "text"
      },
      "source": [
        "# Cyclic Learning Rate"
      ]
    },
    {
      "cell_type": "code",
      "metadata": {
        "id": "E1Wbss6H49Qc",
        "colab_type": "code",
        "colab": {}
      },
      "source": [
        "from keras.callbacks import *\n",
        "\n",
        "class CyclicLR(Callback):\n",
        "    \"\"\"This callback implements a cyclical learning rate policy (CLR).\n",
        "    The method cycles the learning rate between two boundaries with\n",
        "    some constant frequency, as detailed in this paper (https://arxiv.org/abs/1506.01186).\n",
        "    The amplitude of the cycle can be scaled on a per-iteration or \n",
        "    per-cycle basis.\n",
        "    This class has three built-in policies, as put forth in the paper.\n",
        "    \"triangular\":\n",
        "        A basic triangular cycle w/ no amplitude scaling.\n",
        "    \"triangular2\":\n",
        "        A basic triangular cycle that scales initial amplitude by half each cycle.\n",
        "    \"exp_range\":\n",
        "        A cycle that scales initial amplitude by gamma**(cycle iterations) at each \n",
        "        cycle iteration.\n",
        "    For more detail, please see paper.\n",
        "    \n",
        "    # Example\n",
        "        ```python\n",
        "            clr = CyclicLR(base_lr=0.001, max_lr=0.006,\n",
        "                                step_size=2000., mode='triangular')\n",
        "            model.fit(X_train, Y_train, callbacks=[clr])\n",
        "        ```\n",
        "    \n",
        "    Class also supports custom scaling functions:\n",
        "        ```python\n",
        "            clr_fn = lambda x: 0.5*(1+np.sin(x*np.pi/2.))\n",
        "            clr = CyclicLR(base_lr=0.001, max_lr=0.006,\n",
        "                                step_size=2000., scale_fn=clr_fn,\n",
        "                                scale_mode='cycle')\n",
        "            model.fit(X_train, Y_train, callbacks=[clr])\n",
        "        ```    \n",
        "    # Arguments\n",
        "        base_lr: initial learning rate which is the\n",
        "            lower boundary in the cycle.\n",
        "        max_lr: upper boundary in the cycle. Functionally,\n",
        "            it defines the cycle amplitude (max_lr - base_lr).\n",
        "            The lr at any cycle is the sum of base_lr\n",
        "            and some scaling of the amplitude; therefore \n",
        "            max_lr may not actually be reached depending on\n",
        "            scaling function.\n",
        "        step_size: number of training iterations per\n",
        "            half cycle. Authors suggest setting step_size\n",
        "            2-8 x training iterations in epoch.\n",
        "        mode: one of {triangular, triangular2, exp_range}.\n",
        "            Default 'triangular'.\n",
        "            Values correspond to policies detailed above.\n",
        "            If scale_fn is not None, this argument is ignored.\n",
        "        gamma: constant in 'exp_range' scaling function:\n",
        "            gamma**(cycle iterations)\n",
        "        scale_fn: Custom scaling policy defined by a single\n",
        "            argument lambda function, where \n",
        "            0 <= scale_fn(x) <= 1 for all x >= 0.\n",
        "            mode paramater is ignored \n",
        "        scale_mode: {'cycle', 'iterations'}.\n",
        "            Defines whether scale_fn is evaluated on \n",
        "            cycle number or cycle iterations (training\n",
        "            iterations since start of cycle). Default is 'cycle'.\n",
        "    \"\"\"\n",
        "\n",
        "    def __init__(self, base_lr=0.001, max_lr=0.006, step_size=2000., mode='triangular',\n",
        "                 gamma=1., scale_fn=None, scale_mode='cycle'):\n",
        "        super(CyclicLR, self).__init__()\n",
        "\n",
        "        self.base_lr = base_lr\n",
        "        self.max_lr = max_lr\n",
        "        self.step_size = step_size\n",
        "        self.mode = mode\n",
        "        self.gamma = gamma\n",
        "        if scale_fn == None:\n",
        "            if self.mode == 'triangular':\n",
        "                self.scale_fn = lambda x: 1.\n",
        "                self.scale_mode = 'cycle'\n",
        "            elif self.mode == 'triangular2':\n",
        "                self.scale_fn = lambda x: 1/(2.**(x-1))\n",
        "                self.scale_mode = 'cycle'\n",
        "            elif self.mode == 'exp_range':\n",
        "                self.scale_fn = lambda x: gamma**(x)\n",
        "                self.scale_mode = 'iterations'\n",
        "        else:\n",
        "            self.scale_fn = scale_fn\n",
        "            self.scale_mode = scale_mode\n",
        "        self.clr_iterations = 0.\n",
        "        self.trn_iterations = 0.\n",
        "        self.history = {}\n",
        "\n",
        "        self._reset()\n",
        "\n",
        "    def _reset(self, new_base_lr=None, new_max_lr=None,\n",
        "               new_step_size=None):\n",
        "        \"\"\"Resets cycle iterations.\n",
        "        Optional boundary/step size adjustment.\n",
        "        \"\"\"\n",
        "        if new_base_lr != None:\n",
        "            self.base_lr = new_base_lr\n",
        "        if new_max_lr != None:\n",
        "            self.max_lr = new_max_lr\n",
        "        if new_step_size != None:\n",
        "            self.step_size = new_step_size\n",
        "        self.clr_iterations = 0.\n",
        "        \n",
        "    def clr(self):\n",
        "        cycle = np.floor(1+self.clr_iterations/(2*self.step_size))\n",
        "        x = np.abs(self.clr_iterations/self.step_size - 2*cycle + 1)\n",
        "        if self.scale_mode == 'cycle':\n",
        "            return self.base_lr + (self.max_lr-self.base_lr)*np.maximum(0, (1-x))*self.scale_fn(cycle)\n",
        "        else:\n",
        "            return self.base_lr + (self.max_lr-self.base_lr)*np.maximum(0, (1-x))*self.scale_fn(self.clr_iterations)\n",
        "        \n",
        "    def on_train_begin(self, logs={}):\n",
        "        logs = logs or {}\n",
        "\n",
        "        if self.clr_iterations == 0:\n",
        "            K.set_value(self.model.optimizer.lr, self.base_lr)\n",
        "        else:\n",
        "            K.set_value(self.model.optimizer.lr, self.clr())        \n",
        "            \n",
        "    def on_batch_end(self, epoch, logs=None):\n",
        "        \n",
        "        logs = logs or {}\n",
        "        self.trn_iterations += 1\n",
        "        self.clr_iterations += 1\n",
        "\n",
        "        self.history.setdefault('lr', []).append(K.get_value(self.model.optimizer.lr))\n",
        "        self.history.setdefault('iterations', []).append(self.trn_iterations)\n",
        "\n",
        "        for k, v in logs.items():\n",
        "            self.history.setdefault(k, []).append(v)\n",
        "        \n",
        "        K.set_value(self.model.optimizer.lr, self.clr())"
      ],
      "execution_count": 0,
      "outputs": []
    },
    {
      "cell_type": "markdown",
      "metadata": {
        "id": "Ti8t7PynA5uw",
        "colab_type": "text"
      },
      "source": [
        "# Model Training & Prediction"
      ]
    },
    {
      "cell_type": "code",
      "metadata": {
        "id": "Zp6SuGrL9M3h",
        "colab_type": "code",
        "colab": {}
      },
      "source": [
        "model.compile(loss='categorical_crossentropy',\n",
        "             optimizer='adam',\n",
        "             metrics=['accuracy'])"
      ],
      "execution_count": 0,
      "outputs": []
    },
    {
      "cell_type": "markdown",
      "metadata": {
        "id": "QIuO524A02OD",
        "colab_type": "text"
      },
      "source": [
        "**Initial 10 Epochs**"
      ]
    },
    {
      "cell_type": "code",
      "metadata": {
        "id": "4xWoKhPY9Of5",
        "colab_type": "code",
        "outputId": "2d9f3d2b-96f9-4b5c-e5d0-c8e86cb281b8",
        "colab": {
          "base_uri": "https://localhost:8080/",
          "height": 506
        }
      },
      "source": [
        "# Introducing learning rate\n",
        "from keras.callbacks import *\n",
        "clr_triangular = CyclicLR(mode='triangular')\n",
        "\n",
        "model.fit(X_train, Y_train, batch_size=168, nb_epoch=10, verbose=1, callbacks=[clr_triangular], validation_data=(X_test,Y_test))"
      ],
      "execution_count": 0,
      "outputs": [
        {
          "output_type": "stream",
          "text": [
            "WARNING:tensorflow:From /usr/local/lib/python3.6/dist-packages/tensorflow/python/ops/math_ops.py:3066: to_int32 (from tensorflow.python.ops.math_ops) is deprecated and will be removed in a future version.\n",
            "Instructions for updating:\n",
            "Use tf.cast instead.\n"
          ],
          "name": "stdout"
        },
        {
          "output_type": "stream",
          "text": [
            "/usr/local/lib/python3.6/dist-packages/ipykernel_launcher.py:4: UserWarning: The `nb_epoch` argument in `fit` has been renamed `epochs`.\n",
            "  after removing the cwd from sys.path.\n"
          ],
          "name": "stderr"
        },
        {
          "output_type": "stream",
          "text": [
            "Train on 60000 samples, validate on 10000 samples\n",
            "Epoch 1/10\n",
            "60000/60000 [==============================] - 9s 153us/step - loss: 0.3297 - acc: 0.8939 - val_loss: 0.1034 - val_acc: 0.9679\n",
            "Epoch 2/10\n",
            "60000/60000 [==============================] - 6s 95us/step - loss: 0.0711 - acc: 0.9778 - val_loss: 0.0562 - val_acc: 0.9800\n",
            "Epoch 3/10\n",
            "60000/60000 [==============================] - 6s 96us/step - loss: 0.0559 - acc: 0.9828 - val_loss: 0.0516 - val_acc: 0.9826\n",
            "Epoch 4/10\n",
            "60000/60000 [==============================] - 6s 99us/step - loss: 0.0521 - acc: 0.9836 - val_loss: 0.0423 - val_acc: 0.9861\n",
            "Epoch 5/10\n",
            "60000/60000 [==============================] - 6s 95us/step - loss: 0.0441 - acc: 0.9856 - val_loss: 0.0830 - val_acc: 0.9765\n",
            "Epoch 6/10\n",
            "60000/60000 [==============================] - 6s 95us/step - loss: 0.0444 - acc: 0.9863 - val_loss: 0.0582 - val_acc: 0.9819\n",
            "Epoch 7/10\n",
            "60000/60000 [==============================] - 6s 95us/step - loss: 0.0360 - acc: 0.9887 - val_loss: 0.0334 - val_acc: 0.9889\n",
            "Epoch 8/10\n",
            "60000/60000 [==============================] - 6s 95us/step - loss: 0.0277 - acc: 0.9910 - val_loss: 0.0272 - val_acc: 0.9901\n",
            "Epoch 9/10\n",
            "60000/60000 [==============================] - 6s 95us/step - loss: 0.0244 - acc: 0.9923 - val_loss: 0.0240 - val_acc: 0.9923\n",
            "Epoch 10/10\n",
            "60000/60000 [==============================] - 6s 98us/step - loss: 0.0220 - acc: 0.9927 - val_loss: 0.0215 - val_acc: 0.9925\n"
          ],
          "name": "stdout"
        },
        {
          "output_type": "execute_result",
          "data": {
            "text/plain": [
              "<keras.callbacks.History at 0x7f0ca61877b8>"
            ]
          },
          "metadata": {
            "tags": []
          },
          "execution_count": 14
        }
      ]
    },
    {
      "cell_type": "code",
      "metadata": {
        "id": "ffqe89nYNaXf",
        "colab_type": "code",
        "outputId": "8b2a90cb-4210-4bb3-a911-244ce9319bc2",
        "colab": {
          "base_uri": "https://localhost:8080/",
          "height": 454
        }
      },
      "source": [
        "from keras.callbacks import *\n",
        "clr_triangular = CyclicLR(mode='triangular')\n",
        "\n",
        "model.fit(X_train, Y_train, batch_size=168, nb_epoch=10, verbose=1, callbacks=[clr_triangular], validation_data=(X_test,Y_test))"
      ],
      "execution_count": 0,
      "outputs": [
        {
          "output_type": "stream",
          "text": [
            "Train on 60000 samples, validate on 10000 samples\n",
            "Epoch 1/10\n",
            " 1176/60000 [..............................] - ETA: 7s - loss: 0.0092 - acc: 0.9974"
          ],
          "name": "stdout"
        },
        {
          "output_type": "stream",
          "text": [
            "/usr/local/lib/python3.6/dist-packages/ipykernel_launcher.py:4: UserWarning: The `nb_epoch` argument in `fit` has been renamed `epochs`.\n",
            "  after removing the cwd from sys.path.\n"
          ],
          "name": "stderr"
        },
        {
          "output_type": "stream",
          "text": [
            "60000/60000 [==============================] - 6s 97us/step - loss: 0.0170 - acc: 0.9945 - val_loss: 0.0217 - val_acc: 0.9928\n",
            "Epoch 2/10\n",
            "60000/60000 [==============================] - 6s 95us/step - loss: 0.0190 - acc: 0.9939 - val_loss: 0.0403 - val_acc: 0.9878\n",
            "Epoch 3/10\n",
            "60000/60000 [==============================] - 6s 95us/step - loss: 0.0274 - acc: 0.9912 - val_loss: 0.0345 - val_acc: 0.9902\n",
            "Epoch 4/10\n",
            "60000/60000 [==============================] - 6s 95us/step - loss: 0.0312 - acc: 0.9898 - val_loss: 0.0277 - val_acc: 0.9914\n",
            "Epoch 5/10\n",
            "60000/60000 [==============================] - 6s 95us/step - loss: 0.0299 - acc: 0.9905 - val_loss: 0.0351 - val_acc: 0.9895\n",
            "Epoch 6/10\n",
            "60000/60000 [==============================] - 6s 95us/step - loss: 0.0313 - acc: 0.9901 - val_loss: 0.0286 - val_acc: 0.9899\n",
            "Epoch 7/10\n",
            "60000/60000 [==============================] - 6s 101us/step - loss: 0.0261 - acc: 0.9917 - val_loss: 0.0259 - val_acc: 0.9914\n",
            "Epoch 8/10\n",
            "60000/60000 [==============================] - 6s 103us/step - loss: 0.0208 - acc: 0.9931 - val_loss: 0.0274 - val_acc: 0.9914\n",
            "Epoch 9/10\n",
            "60000/60000 [==============================] - 6s 100us/step - loss: 0.0189 - acc: 0.9938 - val_loss: 0.0248 - val_acc: 0.9918\n",
            "Epoch 10/10\n",
            "60000/60000 [==============================] - 6s 96us/step - loss: 0.0148 - acc: 0.9953 - val_loss: 0.0207 - val_acc: 0.9940\n"
          ],
          "name": "stdout"
        },
        {
          "output_type": "execute_result",
          "data": {
            "text/plain": [
              "<keras.callbacks.History at 0x7f0d11523400>"
            ]
          },
          "metadata": {
            "tags": []
          },
          "execution_count": 15
        }
      ]
    },
    {
      "cell_type": "code",
      "metadata": {
        "id": "AtsH-lLk-eLb",
        "colab_type": "code",
        "colab": {}
      },
      "source": [
        "score = model.evaluate(X_test, Y_test, verbose=0)"
      ],
      "execution_count": 0,
      "outputs": []
    },
    {
      "cell_type": "code",
      "metadata": {
        "id": "mkX8JMv79q9r",
        "colab_type": "code",
        "outputId": "c8b98cbc-8193-4dc6-9d3b-15897a9e292b",
        "colab": {
          "base_uri": "https://localhost:8080/",
          "height": 34
        }
      },
      "source": [
        "print(score)"
      ],
      "execution_count": 0,
      "outputs": [
        {
          "output_type": "stream",
          "text": [
            "[0.020743367772135025, 0.994]\n"
          ],
          "name": "stdout"
        }
      ]
    },
    {
      "cell_type": "code",
      "metadata": {
        "id": "OCWoJkwE9suh",
        "colab_type": "code",
        "colab": {}
      },
      "source": [
        "y_pred = model.predict(X_test)"
      ],
      "execution_count": 0,
      "outputs": []
    },
    {
      "cell_type": "code",
      "metadata": {
        "id": "Ym7iCFBm9uBs",
        "colab_type": "code",
        "outputId": "83c27d6e-44e2-4593-c344-adf946047963",
        "colab": {
          "base_uri": "https://localhost:8080/",
          "height": 347
        }
      },
      "source": [
        "print(y_pred[:9])\n",
        "print(y_test[:9])"
      ],
      "execution_count": 0,
      "outputs": [
        {
          "output_type": "stream",
          "text": [
            "[[4.7804848e-13 1.9645589e-12 2.3841048e-08 7.8087214e-10 3.6489740e-13\n",
            "  3.3829469e-13 6.8975555e-16 1.0000000e+00 2.3342623e-12 2.5043780e-09]\n",
            " [4.6424926e-08 3.9645783e-11 1.0000000e+00 4.8504642e-12 9.9067152e-15\n",
            "  6.1663697e-16 2.0883755e-09 8.0167984e-15 9.2652677e-11 7.4162462e-16]\n",
            " [2.5436302e-08 9.9999881e-01 8.9561700e-09 3.5479932e-09 3.3484420e-07\n",
            "  3.9309597e-08 2.6645540e-07 2.4985641e-07 1.6973659e-07 1.8200512e-07]\n",
            " [9.9999332e-01 1.0864665e-11 2.1010147e-09 6.3500016e-10 1.8066154e-10\n",
            "  9.9201569e-10 6.2696995e-06 3.4571308e-12 1.0469694e-07 2.5672691e-07]\n",
            " [2.9526115e-09 1.0907454e-09 4.3242196e-10 1.5863699e-11 9.9999392e-01\n",
            "  2.1526581e-09 2.6664603e-07 3.6582275e-09 1.6549860e-09 5.8669184e-06]\n",
            " [7.5909199e-08 9.9999642e-01 7.6194667e-08 2.9134520e-10 8.3739394e-07\n",
            "  2.1078326e-09 3.3625120e-08 1.3577425e-06 3.4770732e-08 1.0142184e-06]\n",
            " [1.0516537e-12 1.7155068e-10 1.5284014e-10 8.0571698e-14 9.9997211e-01\n",
            "  5.1333321e-10 3.3041517e-11 4.9147610e-09 7.9576051e-07 2.7148313e-05]\n",
            " [5.6113287e-09 1.6576519e-06 1.1525548e-07 1.1211233e-09 1.8621272e-03\n",
            "  2.7352183e-09 2.4250641e-12 4.2752482e-08 5.4308735e-08 9.9813604e-01]\n",
            " [1.9963820e-06 8.5041453e-11 4.3299270e-11 2.4844521e-08 1.5572181e-11\n",
            "  8.4948504e-01 1.4947627e-01 6.5307811e-12 1.0331292e-03 3.5225085e-06]]\n",
            "[7 2 1 0 4 1 4 9 5]\n"
          ],
          "name": "stdout"
        }
      ]
    },
    {
      "cell_type": "code",
      "metadata": {
        "id": "9tvptcn8dxvp",
        "colab_type": "code",
        "colab": {}
      },
      "source": [
        ""
      ],
      "execution_count": 0,
      "outputs": []
    }
  ]
}