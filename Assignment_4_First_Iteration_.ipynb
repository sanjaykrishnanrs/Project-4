{
  "nbformat": 4,
  "nbformat_minor": 0,
  "metadata": {
    "colab": {
      "name": "Assignment-4-First Iteration .ipynb",
      "version": "0.3.2",
      "provenance": [],
      "collapsed_sections": [
        "aNyZv-Ec52ot",
        "zByEi95J86RD",
        "QqayP0LYBE0G"
      ]
    },
    "kernelspec": {
      "name": "python3",
      "display_name": "Python 3"
    },
    "accelerator": "GPU"
  },
  "cells": [
    {
      "cell_type": "markdown",
      "metadata": {
        "id": "TnycFMDzHdep",
        "colab_type": "text"
      },
      "source": [
        "# Preface\n",
        "\n",
        "Here, we are trying to define a model which can recognize handwritten MNIST digits.\n",
        "<br/> Model has a vanilla architecture. We will be using\n",
        "\n",
        "*   Position Maxpooling\n",
        "*   Position 1x1 Kernel\n",
        "*   Position Relu activation\n",
        "\n",
        "We will be designing vanilla architecture with enough layers to have receptive field  24 which will cover almost whole image. Object in mage will be covered full as there is ~2pixel margin."
      ]
    },
    {
      "cell_type": "markdown",
      "metadata": {
        "id": "aNyZv-Ec52ot",
        "colab_type": "text"
      },
      "source": [
        "# **Import Libraries and modules**"
      ]
    },
    {
      "cell_type": "code",
      "metadata": {
        "id": "3m3w1Cw49Zkt",
        "colab_type": "code",
        "colab": {}
      },
      "source": [
        "# Installing Keras Library and importing the same.\n",
        "# Reference: https://keras.io/\n",
        "!pip install -q keras\n",
        "import keras"
      ],
      "execution_count": 0,
      "outputs": []
    },
    {
      "cell_type": "code",
      "metadata": {
        "id": "Eso6UHE080D4",
        "colab_type": "code",
        "colab": {}
      },
      "source": [
        "# Numpy is library used for efficient high level mathemtical processing on multi dimensional arrays\n",
        "import numpy as np\n",
        "\n",
        "# Keras provides a Sequential model API. This is way of creating a linear stack of layers while creating models.\n",
        "from keras.models import Sequential\n",
        "\n",
        "# Flatten provided by Keras will be used to convert a multidimensional tensor into a single 1-D tensor\n",
        "from keras.layers import Flatten\n",
        "from keras.layers import Dense, Dropout, Activation, Flatten, Add\n",
        "\n",
        "# Convolution2D will be used to create a convolution kernel that is convolved with the layer input to produce a tensor of outputs\n",
        "from keras.layers import Convolution2D, MaxPooling2D\n",
        "\n",
        "# Import np_utils from keras\n",
        "from keras.utils import np_utils\n",
        "\n",
        "# Being a subset of NIST, MNIST has datasets of handwritten digits with 60,000 training set and 10,000 test set\n",
        "from keras.datasets import mnist"
      ],
      "execution_count": 0,
      "outputs": []
    },
    {
      "cell_type": "markdown",
      "metadata": {
        "id": "zByEi95J86RD",
        "colab_type": "text"
      },
      "source": [
        "# Load pre-shuffled MNIST data into train and test sets"
      ]
    },
    {
      "cell_type": "code",
      "metadata": {
        "id": "7eRM0QWN83PV",
        "colab_type": "code",
        "outputId": "e1a8f7e1-608a-4e8b-9e8e-0e5342e294b1",
        "colab": {
          "base_uri": "https://localhost:8080/",
          "height": 52
        }
      },
      "source": [
        "# Loads MINST dataset, 60,000 training set and 10,000 test set\n",
        "# X values will have images,  y values will have digit represented by the corresponding X images\n",
        "(X_train, y_train), (X_test, y_test) = mnist.load_data()"
      ],
      "execution_count": 0,
      "outputs": [
        {
          "output_type": "stream",
          "text": [
            "Downloading data from https://s3.amazonaws.com/img-datasets/mnist.npz\n",
            "11493376/11490434 [==============================] - 0s 0us/step\n"
          ],
          "name": "stdout"
        }
      ]
    },
    {
      "cell_type": "code",
      "metadata": {
        "id": "4a4Be72j8-ZC",
        "colab_type": "code",
        "outputId": "6e858221-2569-4150-fc75-75a677361710",
        "colab": {
          "base_uri": "https://localhost:8080/",
          "height": 304
        }
      },
      "source": [
        "# Let's see a random image in a training dataset (X_train)\n",
        "\n",
        "print (X_train.shape)\n",
        "from matplotlib import pyplot as plt\n",
        "%matplotlib inline\n",
        "plt.imshow(X_train[0])"
      ],
      "execution_count": 0,
      "outputs": [
        {
          "output_type": "stream",
          "text": [
            "(60000, 28, 28)\n"
          ],
          "name": "stdout"
        },
        {
          "output_type": "execute_result",
          "data": {
            "text/plain": [
              "<matplotlib.image.AxesImage at 0x7f8ac918a518>"
            ]
          },
          "metadata": {
            "tags": []
          },
          "execution_count": 5
        },
        {
          "output_type": "display_data",
          "data": {
            "image/png": "[encoded data removed]",
            "text/plain": [
              "<Figure size 432x288 with 1 Axes>"
            ]
          },
          "metadata": {
            "tags": []
          }
        }
      ]
    },
    {
      "cell_type": "code",
      "metadata": {
        "id": "dkmprriw9AnZ",
        "colab_type": "code",
        "colab": {}
      },
      "source": [
        "# As you see above dimensions, loaded training dataset has a dimension of 2d. So, we have 60,000 2d images 28x28\n",
        "# Let's reshapte to 3D as our model requires 3d images. Here, we are reshaping 28x28 to 28x28x1 where 1 being the channel of the image\n",
        "X_train = X_train.reshape(X_train.shape[0], 28, 28,1)\n",
        "X_test = X_test.reshape(X_test.shape[0], 28, 28,1)"
      ],
      "execution_count": 0,
      "outputs": []
    },
    {
      "cell_type": "code",
      "metadata": {
        "id": "X2m4YS4E9CRh",
        "colab_type": "code",
        "colab": {}
      },
      "source": [
        "# Using a 32 bit precision is a common approach in neural network training.\n",
        "# Reason behind is that to make sure that the dataset fits easily in RAM.\n",
        "X_train = X_train.astype('float32')\n",
        "X_test = X_test.astype('float32')\n",
        "\n",
        "# 255 is the max pixel value in an image. Dividing all pixel values by 255 ensures that the input features are scaled between 0.0 and 1.0\n",
        "# Reason behind to scale between 0.0 and 1.0 is to make sure default learning rate works well.\n",
        "X_train /= 255\n",
        "X_test /= 255"
      ],
      "execution_count": 0,
      "outputs": []
    },
    {
      "cell_type": "code",
      "metadata": {
        "id": "0Mn0vAYD9DvB",
        "colab_type": "code",
        "outputId": "243548e0-2fcf-4eba-f65b-9f0a84ceede9",
        "colab": {
          "base_uri": "https://localhost:8080/",
          "height": 34
        }
      },
      "source": [
        "# Let's see corresponding y_train value\n",
        "y_train[:10]"
      ],
      "execution_count": 0,
      "outputs": [
        {
          "output_type": "execute_result",
          "data": {
            "text/plain": [
              "array([5, 0, 4, 1, 9, 2, 1, 3, 1, 4], dtype=uint8)"
            ]
          },
          "metadata": {
            "tags": []
          },
          "execution_count": 8
        }
      ]
    },
    {
      "cell_type": "code",
      "metadata": {
        "id": "ZG8JiXR39FHC",
        "colab_type": "code",
        "colab": {}
      },
      "source": [
        "# Convert 1-dimensional class arrays to 10-dimensional class matrices\n",
        "# Reason behind this conversion is, at the end of the model we will be having 10 nodes which will tell, out of 0-9 digits which does the input image represent.\n",
        "# Hence to learn as well as to evaluate, we need a 10 length array for each output label\n",
        "Y_train = np_utils.to_categorical(y_train, 10)\n",
        "Y_test = np_utils.to_categorical(y_test, 10)"
      ],
      "execution_count": 0,
      "outputs": []
    },
    {
      "cell_type": "code",
      "metadata": {
        "id": "fYlFRvKS9HMB",
        "colab_type": "code",
        "outputId": "278a6abc-92e7-4bce-cb03-aa45f5fed2e0",
        "colab": {
          "base_uri": "https://localhost:8080/",
          "height": 191
        }
      },
      "source": [
        "# Let's see what are the initial 10 values in y_train. Values is y_train corresponds to the digit represnted by x dataset images.\n",
        "Y_train[:10]"
      ],
      "execution_count": 0,
      "outputs": [
        {
          "output_type": "execute_result",
          "data": {
            "text/plain": [
              "array([[0., 0., 0., 0., 0., 1., 0., 0., 0., 0.],\n",
              "       [1., 0., 0., 0., 0., 0., 0., 0., 0., 0.],\n",
              "       [0., 0., 0., 0., 1., 0., 0., 0., 0., 0.],\n",
              "       [0., 1., 0., 0., 0., 0., 0., 0., 0., 0.],\n",
              "       [0., 0., 0., 0., 0., 0., 0., 0., 0., 1.],\n",
              "       [0., 0., 1., 0., 0., 0., 0., 0., 0., 0.],\n",
              "       [0., 1., 0., 0., 0., 0., 0., 0., 0., 0.],\n",
              "       [0., 0., 0., 1., 0., 0., 0., 0., 0., 0.],\n",
              "       [0., 1., 0., 0., 0., 0., 0., 0., 0., 0.],\n",
              "       [0., 0., 0., 0., 1., 0., 0., 0., 0., 0.]], dtype=float32)"
            ]
          },
          "metadata": {
            "tags": []
          },
          "execution_count": 10
        }
      ]
    },
    {
      "cell_type": "markdown",
      "metadata": {
        "id": "UxOvaKeTA0IX",
        "colab_type": "text"
      },
      "source": [
        "# Model Architecture"
      ]
    },
    {
      "cell_type": "code",
      "metadata": {
        "id": "osKqT73Q9JJB",
        "colab_type": "code",
        "outputId": "21ce8279-58f9-44c0-c544-b7922b6c2ddf",
        "colab": {
          "base_uri": "https://localhost:8080/",
          "height": 193
        }
      },
      "source": [
        "# Importing activation as well as maxpooling which will be used in this model\n",
        "from keras.layers import Activation\n",
        "\n",
        "# Initializing Sequential API as we will be creating model in a linear stack way\n",
        "model = Sequential()\n",
        "\n",
        "\n",
        "\n",
        "# Input Dimension  = 28x28x1\n",
        "# Kernel           = 3x3x1\n",
        "# No:of Kernels    = 16\n",
        "# Output Dimension = 26x26x16 (Here,16 is the number of channels)\n",
        "# Receptive Field  = 3x3  \n",
        "model.add(Convolution2D(16, 3, 3, activation='relu', input_shape=(28,28,1)))\n",
        "\n",
        "# Input Dimension  = 26x26x16\n",
        "# Kernel           = 3x3x16\n",
        "# No:of Kernels    = 32\n",
        "# Output Dimension = 24x24x32 (Here,32 is the number of channels)\n",
        "# Receptive Field  = 5x5 \n",
        "model.add(Convolution2D(32, 3, 3, activation='relu'))\n",
        "\n",
        "# Input Dimension  = 24x24x16\n",
        "# Kernel           = 3x3x16\n",
        "# No:of Kernels    = 64\n",
        "# Output Dimension = 22x22x64 (Here,64 is the number of channels)\n",
        "# Receptive Field  = 7x7 \n",
        "model.add(Convolution2D(64, 3, 3, activation='relu'))\n",
        "\n",
        "\n",
        "\n",
        "# Input Dimension  = 22x22x64\n",
        "# Kernel           = 1x1x64\n",
        "# No:of Kernels    = 16\n",
        "# Output Dimension = 22x22x16 (Here,16 is the number of channels)\n",
        "# Receptive Field  = 7x7\n",
        "# NOTE: 1x1 Kernels are used here for combining the discovered edges and gradients\n",
        "# No effect on output resolution or receptive field\n",
        "model.add(Convolution2D(16, 1, activation='relu'))\n",
        "\n",
        "# Input Dimension  = 22x22x64\n",
        "# Maxpooling Dimension = 2x2 (Default is 2x2)\n",
        "# Output Dimension = 11x11x64 (Here,64 is the number of channels)\n",
        "# Receptive Field  = 14x14 \n",
        "# NOTE: Maxpooling halves the resolution and doubles the receptive field\n",
        "model.add(MaxPooling2D())\n",
        "\n",
        "\n",
        "\n",
        "# Input Dimension  = 11x11x64\n",
        "# Kernel           = 3x3x64\n",
        "# No:of Kernels    = 16\n",
        "# Output Dimension = 9x9x16 (Here,16 is the number of channels)\n",
        "# Receptive Field  = 16x16 \n",
        "model.add(Convolution2D(16, 3, 3, activation='relu'))\n",
        "\n",
        "# Input Dimension  = 9x9x16\n",
        "# Kernel           = 3x3x16\n",
        "# No:of Kernels    = 32\n",
        "# Output Dimension = 7x7x32 (Here,32 is the number of channels)\n",
        "# Receptive Field  = 18x18 \n",
        "model.add(Convolution2D(32, 3, 3, activation='relu'))\n",
        "\n",
        "\n",
        "\n",
        "# Input Dimension  = 7x7x32\n",
        "# Kernel           = 1x1x32\n",
        "# No:of Kernels    = 16\n",
        "# Output Dimension = 7x7x16 (Here,16 is the number of channels)\n",
        "# Receptive Field  = 18x18\n",
        "# NOTE: 1x1 Kernels are used here for dimension(channel) reduction.\n",
        "# No effect on output resolution or receptive field\n",
        "model.add(Convolution2D(16, 1, activation='relu'))\n",
        "\n",
        "# Input Dimension  = 7x7x16\n",
        "# Kernel           = 3x3x16\n",
        "# No:of Kernels    = 16\n",
        "# Output Dimension = 5x5x16 (Here,16 is the number of channels)\n",
        "# Receptive Field  = 20x20\n",
        "model.add(Convolution2D(16, 3, 3, activation='relu'))\n",
        "\n",
        "# Input Dimension  = 5x5x16\n",
        "# Kernel           = 3x3x16\n",
        "# No:of Kernels    = 32\n",
        "# Output Dimension = 3x3x32 (Here,32 is the number of channels)\n",
        "# Receptive Field  = 22x22\n",
        "model.add(Convolution2D(32, 3, 3, activation='relu'))\n",
        "\n",
        "# Input Dimension  = 3x3x32\n",
        "# Kernel           = 3x3x32\n",
        "# No:of Kernels    = 64\n",
        "# Output Dimension = 1x1x64 (Here,64 is the number of channels)\n",
        "# Receptive Field  = 24x24\n",
        "model.add(Convolution2D(64, 3, 3, activation='relu'))\n",
        "\n",
        "\n",
        "\n",
        "# Input Dimension  = 1x1x64\n",
        "# Kernel           = 1x1x64\n",
        "# No:of Kernels    = 10\n",
        "# Output Dimension = 1x1x10 (Here,32 is the number of channels)\n",
        "# Receptive Field  = 24x24 \n",
        "# NOTE: 1x1 Kernels are used here for dimension(channel) reduction.\n",
        "# No effect on output resolution or receptive field\n",
        "model.add(Convolution2D(10, 1))\n",
        "\n",
        "# Input Dimension  = 1x1x10\n",
        "# Output Dimension = 10\n",
        "model.add(Flatten())\n",
        "\n",
        "# We use a “softmax” activation function in the output layer. \n",
        "# This is to ensure the output values are in the range of 0 and 1 and used as predicted probabilities.\n",
        "model.add(Activation('softmax'))\n"
      ],
      "execution_count": 0,
      "outputs": [
        {
          "output_type": "stream",
          "text": [
            "/usr/local/lib/python3.6/dist-packages/ipykernel_launcher.py:13: UserWarning: Update your `Conv2D` call to the Keras 2 API: `Conv2D(16, (3, 3), activation=\"relu\", input_shape=(28, 28, 1...)`\n",
            "  del sys.path[0]\n",
            "/usr/local/lib/python3.6/dist-packages/ipykernel_launcher.py:20: UserWarning: Update your `Conv2D` call to the Keras 2 API: `Conv2D(32, (3, 3), activation=\"relu\")`\n",
            "/usr/local/lib/python3.6/dist-packages/ipykernel_launcher.py:27: UserWarning: Update your `Conv2D` call to the Keras 2 API: `Conv2D(64, (3, 3), activation=\"relu\")`\n",
            "/usr/local/lib/python3.6/dist-packages/ipykernel_launcher.py:54: UserWarning: Update your `Conv2D` call to the Keras 2 API: `Conv2D(16, (3, 3), activation=\"relu\")`\n",
            "/usr/local/lib/python3.6/dist-packages/ipykernel_launcher.py:61: UserWarning: Update your `Conv2D` call to the Keras 2 API: `Conv2D(32, (3, 3), activation=\"relu\")`\n",
            "/usr/local/lib/python3.6/dist-packages/ipykernel_launcher.py:79: UserWarning: Update your `Conv2D` call to the Keras 2 API: `Conv2D(16, (3, 3), activation=\"relu\")`\n",
            "/usr/local/lib/python3.6/dist-packages/ipykernel_launcher.py:86: UserWarning: Update your `Conv2D` call to the Keras 2 API: `Conv2D(32, (3, 3), activation=\"relu\")`\n",
            "/usr/local/lib/python3.6/dist-packages/ipykernel_launcher.py:93: UserWarning: Update your `Conv2D` call to the Keras 2 API: `Conv2D(64, (3, 3), activation=\"relu\")`\n"
          ],
          "name": "stderr"
        }
      ]
    },
    {
      "cell_type": "code",
      "metadata": {
        "id": "TzdAYg1k9K7Z",
        "colab_type": "code",
        "outputId": "9a899b57-8033-44f4-da2c-ce733135074a",
        "colab": {
          "base_uri": "https://localhost:8080/",
          "height": 625
        }
      },
      "source": [
        "# Let's see the overview of stacked up layers in the model\n",
        "model.summary()"
      ],
      "execution_count": 0,
      "outputs": [
        {
          "output_type": "stream",
          "text": [
            "_________________________________________________________________\n",
            "Layer (type)                 Output Shape              Param #   \n",
            "=================================================================\n",
            "conv2d_12 (Conv2D)           (None, 26, 26, 16)        160       \n",
            "_________________________________________________________________\n",
            "conv2d_13 (Conv2D)           (None, 24, 24, 32)        4640      \n",
            "_________________________________________________________________\n",
            "conv2d_14 (Conv2D)           (None, 22, 22, 64)        18496     \n",
            "_________________________________________________________________\n",
            "conv2d_15 (Conv2D)           (None, 22, 22, 16)        1040      \n",
            "_________________________________________________________________\n",
            "max_pooling2d_2 (MaxPooling2 (None, 11, 11, 16)        0         \n",
            "_________________________________________________________________\n",
            "conv2d_16 (Conv2D)           (None, 9, 9, 16)          2320      \n",
            "_________________________________________________________________\n",
            "conv2d_17 (Conv2D)           (None, 7, 7, 32)          4640      \n",
            "_________________________________________________________________\n",
            "conv2d_18 (Conv2D)           (None, 7, 7, 16)          528       \n",
            "_________________________________________________________________\n",
            "conv2d_19 (Conv2D)           (None, 5, 5, 16)          2320      \n",
            "_________________________________________________________________\n",
            "conv2d_20 (Conv2D)           (None, 3, 3, 32)          4640      \n",
            "_________________________________________________________________\n",
            "conv2d_21 (Conv2D)           (None, 1, 1, 64)          18496     \n",
            "_________________________________________________________________\n",
            "conv2d_22 (Conv2D)           (None, 1, 1, 10)          650       \n",
            "_________________________________________________________________\n",
            "flatten_2 (Flatten)          (None, 10)                0         \n",
            "_________________________________________________________________\n",
            "activation_2 (Activation)    (None, 10)                0         \n",
            "=================================================================\n",
            "Total params: 57,930\n",
            "Trainable params: 57,930\n",
            "Non-trainable params: 0\n",
            "_________________________________________________________________\n"
          ],
          "name": "stdout"
        }
      ]
    },
    {
      "cell_type": "markdown",
      "metadata": {
        "id": "Ti8t7PynA5uw",
        "colab_type": "text"
      },
      "source": [
        "# Model Training & Prediction"
      ]
    },
    {
      "cell_type": "code",
      "metadata": {
        "id": "Zp6SuGrL9M3h",
        "colab_type": "code",
        "colab": {}
      },
      "source": [
        "model.compile(loss='categorical_crossentropy',\n",
        "             optimizer='adam',\n",
        "             metrics=['accuracy'])"
      ],
      "execution_count": 0,
      "outputs": []
    },
    {
      "cell_type": "markdown",
      "metadata": {
        "id": "QIuO524A02OD",
        "colab_type": "text"
      },
      "source": [
        "**Train for 20 Epochs**"
      ]
    },
    {
      "cell_type": "code",
      "metadata": {
        "id": "4xWoKhPY9Of5",
        "colab_type": "code",
        "outputId": "3027d03c-0811-4504-e11d-dd12862674bd",
        "colab": {
          "base_uri": "https://localhost:8080/",
          "height": 764
        }
      },
      "source": [
        "model.fit(X_train, Y_train, batch_size=32, nb_epoch=20, verbose=1)"
      ],
      "execution_count": 0,
      "outputs": [
        {
          "output_type": "stream",
          "text": [
            "/usr/local/lib/python3.6/dist-packages/ipykernel_launcher.py:1: UserWarning: The `nb_epoch` argument in `fit` has been renamed `epochs`.\n",
            "  \"\"\"Entry point for launching an IPython kernel.\n"
          ],
          "name": "stderr"
        },
        {
          "output_type": "stream",
          "text": [
            "Epoch 1/20\n",
            "60000/60000 [==============================] - 16s 264us/step - loss: 0.2228 - acc: 0.9308\n",
            "Epoch 2/20\n",
            "60000/60000 [==============================] - 15s 245us/step - loss: 0.0742 - acc: 0.9771\n",
            "Epoch 3/20\n",
            "60000/60000 [==============================] - 14s 235us/step - loss: 0.0560 - acc: 0.9832\n",
            "Epoch 4/20\n",
            "60000/60000 [==============================] - 14s 232us/step - loss: 0.0457 - acc: 0.9859\n",
            "Epoch 5/20\n",
            "60000/60000 [==============================] - 14s 233us/step - loss: 0.0396 - acc: 0.9885\n",
            "Epoch 6/20\n",
            "60000/60000 [==============================] - 16s 267us/step - loss: 0.0338 - acc: 0.9899\n",
            "Epoch 7/20\n",
            "60000/60000 [==============================] - 14s 242us/step - loss: 0.0313 - acc: 0.9905\n",
            "Epoch 8/20\n",
            "60000/60000 [==============================] - 14s 232us/step - loss: 0.0282 - acc: 0.9912\n",
            "Epoch 9/20\n",
            "60000/60000 [==============================] - 14s 234us/step - loss: 0.0266 - acc: 0.9917\n",
            "Epoch 10/20\n",
            "60000/60000 [==============================] - 14s 234us/step - loss: 0.0245 - acc: 0.9924\n",
            "Epoch 11/20\n",
            "60000/60000 [==============================] - 14s 235us/step - loss: 0.0216 - acc: 0.9929\n",
            "Epoch 12/20\n",
            "60000/60000 [==============================] - 15s 255us/step - loss: 0.0208 - acc: 0.9927\n",
            "Epoch 13/20\n",
            "60000/60000 [==============================] - 14s 234us/step - loss: 0.0178 - acc: 0.9946\n",
            "Epoch 14/20\n",
            "60000/60000 [==============================] - 14s 235us/step - loss: 0.0166 - acc: 0.9947\n",
            "Epoch 15/20\n",
            "60000/60000 [==============================] - 14s 234us/step - loss: 0.0163 - acc: 0.9951\n",
            "Epoch 16/20\n",
            "60000/60000 [==============================] - 14s 235us/step - loss: 0.0169 - acc: 0.9947\n",
            "Epoch 17/20\n",
            "60000/60000 [==============================] - 14s 237us/step - loss: 0.0137 - acc: 0.9957\n",
            "Epoch 18/20\n",
            "60000/60000 [==============================] - 15s 253us/step - loss: 0.0141 - acc: 0.9952\n",
            "Epoch 19/20\n",
            "60000/60000 [==============================] - 14s 232us/step - loss: 0.0140 - acc: 0.9957\n",
            "Epoch 20/20\n",
            "60000/60000 [==============================] - 14s 234us/step - loss: 0.0132 - acc: 0.9958\n"
          ],
          "name": "stdout"
        },
        {
          "output_type": "execute_result",
          "data": {
            "text/plain": [
              "<keras.callbacks.History at 0x7f8ac5f43ef0>"
            ]
          },
          "metadata": {
            "tags": []
          },
          "execution_count": 19
        }
      ]
    },
    {
      "cell_type": "markdown",
      "metadata": {
        "id": "ZhQWUbLUc96H",
        "colab_type": "text"
      },
      "source": [
        "**Evaluate the model**"
      ]
    },
    {
      "cell_type": "code",
      "metadata": {
        "id": "AtsH-lLk-eLb",
        "colab_type": "code",
        "colab": {}
      },
      "source": [
        "score = model.evaluate(X_test, Y_test, verbose=0)"
      ],
      "execution_count": 0,
      "outputs": []
    },
    {
      "cell_type": "code",
      "metadata": {
        "id": "mkX8JMv79q9r",
        "colab_type": "code",
        "outputId": "686b13c6-3b8b-42ab-817e-205c16a85e00",
        "colab": {
          "base_uri": "https://localhost:8080/",
          "height": 34
        }
      },
      "source": [
        "print(score)"
      ],
      "execution_count": 0,
      "outputs": [
        {
          "output_type": "stream",
          "text": [
            "[0.037133911192653524, 0.9915]\n"
          ],
          "name": "stdout"
        }
      ]
    },
    {
      "cell_type": "markdown",
      "metadata": {
        "id": "GV-SLPTP1wPf",
        "colab_type": "text"
      },
      "source": [
        "# Inference\n",
        "Above training & evaluation statistics says training accuracy has reached 99.5. But, testing accuracy is 99.1 . \n",
        "- This means there is a slight overfitting. \n",
        "- Also, scope of regularization is present in this architecture w.r.t no: of parameters and layers. \n",
        "- As part of execution, we have to include validation accuracy as well on each epoch, so that we will know how our model is performing, rather than evaluating at the end.\n",
        "\n",
        "We will focus in upcoming iterations to fix these improvements step by step"
      ]
    },
    {
      "cell_type": "markdown",
      "metadata": {
        "id": "QqayP0LYBE0G",
        "colab_type": "text"
      },
      "source": [
        "# Visualization of Features extracting by Kernel"
      ]
    },
    {
      "cell_type": "markdown",
      "metadata": {
        "id": "CbYPcodNEcxY",
        "colab_type": "text"
      },
      "source": [
        "We can see that filters for 'conv2d_278' layer before Maxpooling are looking for edges & gradients which is really a good sign !"
      ]
    },
    {
      "cell_type": "code",
      "metadata": {
        "id": "CT--y98_dr2T",
        "colab_type": "code",
        "colab": {}
      },
      "source": [
        "layer_dict = dict([(layer.name, layer) for layer in model.layers])"
      ],
      "execution_count": 0,
      "outputs": []
    },
    {
      "cell_type": "code",
      "metadata": {
        "id": "2GY4Upv4dsUR",
        "colab_type": "code",
        "outputId": "8229ab63-0e5a-44db-86d4-067694f1cf9d",
        "colab": {
          "base_uri": "https://localhost:8080/",
          "height": 741
        }
      },
      "source": [
        "import numpy as np\n",
        "from matplotlib import pyplot as plt\n",
        "from keras import backend as K\n",
        "%matplotlib inline\n",
        "# util function to convert a tensor into a valid image\n",
        "def deprocess_image(x):\n",
        "    # normalize tensor: center on 0., ensure std is 0.1\n",
        "    x -= x.mean()\n",
        "    x /= (x.std() + 1e-5)\n",
        "    x *= 0.1\n",
        "\n",
        "    # clip to [0, 1]\n",
        "    x += 0.5\n",
        "    x = np.clip(x, 0, 1)\n",
        "\n",
        "    # convert to RGB array\n",
        "    x *= 255\n",
        "    #x = x.transpose((1, 2, 0))\n",
        "    x = np.clip(x, 0, 255).astype('uint8')\n",
        "    return x\n",
        "\n",
        "def vis_img_in_filter(img = np.array(X_train[2]).reshape((1, 28, 28, 1)).astype(np.float64), \n",
        "                      layer_name = 'conv2d_278'):\n",
        "    layer_output = layer_dict[layer_name].output\n",
        "    img_ascs = list()\n",
        "    for filter_index in range(layer_output.shape[3]):\n",
        "        # build a loss function that maximizes the activation\n",
        "        # of the nth filter of the layer considered\n",
        "        loss = K.mean(layer_output[:, :, :, filter_index])\n",
        "\n",
        "        # compute the gradient of the input picture wrt this loss\n",
        "        grads = K.gradients(loss, model.input)[0]\n",
        "\n",
        "        # normalization trick: we normalize the gradient\n",
        "        grads /= (K.sqrt(K.mean(K.square(grads))) + 1e-5)\n",
        "\n",
        "        # this function returns the loss and grads given the input picture\n",
        "        iterate = K.function([model.input], [loss, grads])\n",
        "\n",
        "        # step size for gradient ascent\n",
        "        step = 5.\n",
        "\n",
        "        img_asc = np.array(img)\n",
        "        # run gradient ascent for 20 steps\n",
        "        for i in range(20):\n",
        "            loss_value, grads_value = iterate([img_asc])\n",
        "            img_asc += grads_value * step\n",
        "\n",
        "        img_asc = img_asc[0]\n",
        "        img_ascs.append(deprocess_image(img_asc).reshape((28, 28)))\n",
        "        \n",
        "    if layer_output.shape[3] >= 35:\n",
        "        plot_x, plot_y = 6, 6\n",
        "    elif layer_output.shape[3] >= 23:\n",
        "        plot_x, plot_y = 4, 6\n",
        "    elif layer_output.shape[3] >= 11:\n",
        "        plot_x, plot_y = 2, 6\n",
        "    else:\n",
        "        plot_x, plot_y = 1, 2\n",
        "    fig, ax = plt.subplots(plot_x, plot_y, figsize = (12, 12))\n",
        "    ax[0, 0].imshow(img.reshape((28, 28)), cmap = 'gray')\n",
        "    ax[0, 0].set_title('Input image')\n",
        "    fig.suptitle('Input image and %s filters' % (layer_name,))\n",
        "    fig.tight_layout(pad = 0.3, rect = [0, 0, 0.9, 0.9])\n",
        "    for (x, y) in [(i, j) for i in range(plot_x) for j in range(plot_y)]:\n",
        "        if x == 0 and y == 0:\n",
        "            continue\n",
        "        ax[x, y].imshow(img_ascs[x * plot_y + y - 1], cmap = 'gray')\n",
        "        ax[x, y].set_title('filter %d' % (x * plot_y + y - 1))\n",
        "\n",
        "vis_img_in_filter()"
      ],
      "execution_count": 0,
      "outputs": [
        {
          "output_type": "display_data",
          "data": {
            "image/png": "[encoded data removed]",
            "text/plain": [
              "<Figure size 864x864 with 12 Axes>"
            ]
          },
          "metadata": {
            "tags": []
          }
        }
      ]
    },
    {
      "cell_type": "code",
      "metadata": {
        "id": "9tvptcn8dxvp",
        "colab_type": "code",
        "colab": {}
      },
      "source": [
        ""
      ],
      "execution_count": 0,
      "outputs": []
    }
  ]
}